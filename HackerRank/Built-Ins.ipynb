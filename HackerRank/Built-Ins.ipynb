{
 "cells": [
  {
   "cell_type": "markdown",
   "metadata": {},
   "source": [
    "## Zipped!"
   ]
  },
  {
   "cell_type": "code",
   "execution_count": 8,
   "metadata": {},
   "outputs": [
    {
     "name": "stdout",
     "output_type": "stream",
     "text": [
      "5 3\n",
      "89 90 78 93 80\n",
      "90 91 85 88 86\n",
      "91 92 83 89 90.5\n",
      "90.0\n",
      "91.0\n",
      "82.0\n",
      "90.0\n",
      "85.5\n"
     ]
    }
   ],
   "source": [
    "n, x = map(int, input().split())\n",
    "output = [list(map(float, input().split())) for _ in range(x)]\n",
    "print(*[sum(tup)/x for tup in zip(*output)], sep = '\\n')"
   ]
  },
  {
   "cell_type": "markdown",
   "metadata": {},
   "source": [
    "## Input()"
   ]
  },
  {
   "cell_type": "code",
   "execution_count": 9,
   "metadata": {},
   "outputs": [
    {
     "name": "stdout",
     "output_type": "stream",
     "text": [
      "1 4\n",
      "x**3 + x**2 + x + 1\n",
      "True\n"
     ]
    }
   ],
   "source": [
    "#Naive/Brute-force approach\n",
    "l = list(map(int, input().split()))\n",
    "x = l[0]\n",
    "k = l[1]\n",
    "\n",
    "poly = input().split()\n",
    "\n",
    "equation = 0\n",
    "\n",
    "#Finding the constant term\n",
    "for i in range(0, len(poly), 2):\n",
    "    string = poly[i]\n",
    "    if(string.isdecimal()):\n",
    "        if(i==0):\n",
    "            equation += int(string)\n",
    "        else:\n",
    "            if(ord(poly[i-1]) == 43):\n",
    "                equation += int(string)\n",
    "            else:\n",
    "                equation -= int(string)\n",
    "\n",
    "#Finding the term with ends with an x\n",
    "for i in range(0, len(poly), 2):\n",
    "    string = poly[i]\n",
    "    if(string[len(string)-1] == 'x'):\n",
    "        if(len(string)==1):\n",
    "            if(i==0):\n",
    "                equation += x\n",
    "            else:\n",
    "                if(ord(poly[i-1]) == 43):\n",
    "                    equation += x\n",
    "                else:\n",
    "                    equation -= x\n",
    "        else:\n",
    "            strwx = int(string[0:len(string)-2])\n",
    "            if(i==0):\n",
    "                equation += strwx*x\n",
    "            else:\n",
    "                if(ord(poly[i-1]) == 43):\n",
    "                    equation += strwx*x\n",
    "                else:\n",
    "                    equation -= strwx*x\n",
    "\n",
    "\n",
    "#Find the term of x**n with or without coefficents\n",
    "for i in range(0, len(poly), 2):\n",
    "    string = poly[i]\n",
    "    if(string[0]=='x' and len(string)>=4):\n",
    "        #Term of kind x**n without coefficents\n",
    "        power = int(string[3:len(string)])\n",
    "        if(i==0):\n",
    "            equation += x**power\n",
    "        else:\n",
    "            if(ord(poly[i-1]) == 43):\n",
    "                equation += x**power\n",
    "            else:\n",
    "                equation -= x**power\n",
    "\n",
    "    elif(len(string)>=4):\n",
    "        #Term of kind x**n with coefficents\n",
    "        coeff = int(string[0:string.find('x')-1])\n",
    "        power = int(string[string.find('x')+3:len(string)])\n",
    "        if(i==0):\n",
    "            equation += coeff*(x**power)\n",
    "        else:\n",
    "            if(ord(poly[i-1]) == 43):\n",
    "                equation += coeff*(x**power)\n",
    "            else:\n",
    "                equation -= coeff*(x**power)\n",
    "        \n",
    "if(equation == k):\n",
    "    print(\"True\")\n",
    "else:\n",
    "    print(\"False\")"
   ]
  },
  {
   "cell_type": "code",
   "execution_count": 10,
   "metadata": {},
   "outputs": [
    {
     "name": "stdout",
     "output_type": "stream",
     "text": [
      "1 4\n",
      "x**3 + x**2 + x + 1\n",
      "True\n"
     ]
    }
   ],
   "source": [
    "#Using eval()\n",
    "x, k = map(int, input().split())\n",
    "print(k == eval(input()))"
   ]
  },
  {
   "cell_type": "markdown",
   "metadata": {},
   "source": [
    "## Python Evaluation"
   ]
  },
  {
   "cell_type": "code",
   "execution_count": 11,
   "metadata": {},
   "outputs": [
    {
     "name": "stdout",
     "output_type": "stream",
     "text": [
      "print(2 + 5)\n",
      "7\n"
     ]
    }
   ],
   "source": [
    "s = input()\n",
    "print(eval(s[s.find('(')+1:len(s)-1]))"
   ]
  },
  {
   "cell_type": "markdown",
   "metadata": {},
   "source": [
    "## Athlete Sort"
   ]
  },
  {
   "cell_type": "code",
   "execution_count": 12,
   "metadata": {},
   "outputs": [
    {
     "name": "stdout",
     "output_type": "stream",
     "text": [
      "5 3\n",
      "10 2 5\n",
      "7 1 0\n",
      "9 9 9\n",
      "1 23 12\n",
      "6 5 9\n",
      "1\n",
      "7 1 0\n",
      "10 2 5\n",
      "6 5 9\n",
      "9 9 9\n",
      "1 23 12\n"
     ]
    }
   ],
   "source": [
    "n, m = map(int, input().split())\n",
    "arr = [list(map(int, input().split())) for _ in range(n)]\n",
    "k = int(input())\n",
    "\n",
    "arr.sort(key = lambda row: row[k])\n",
    "for m in arr:\n",
    "    print(' '.join(map(str, m)))"
   ]
  },
  {
   "cell_type": "markdown",
   "metadata": {},
   "source": [
    "## Any or All"
   ]
  },
  {
   "cell_type": "code",
   "execution_count": 5,
   "metadata": {},
   "outputs": [
    {
     "name": "stdout",
     "output_type": "stream",
     "text": [
      "5\n",
      "12 9 61 5 14\n",
      "True\n"
     ]
    }
   ],
   "source": [
    "n, numbers= int(input()), input().split()\n",
    "print(all([True if int(n)>0 else False for n in numbers]) and any([True if item[::-1]==item else False for item in numbers])) "
   ]
  },
  {
   "cell_type": "markdown",
   "metadata": {},
   "source": [
    "## ginortS"
   ]
  },
  {
   "cell_type": "code",
   "execution_count": 7,
   "metadata": {},
   "outputs": [
    {
     "name": "stdout",
     "output_type": "stream",
     "text": [
      "Sorting1234\n",
      "ginortS1324\n"
     ]
    }
   ],
   "source": [
    "from collections import defaultdict\n",
    "\n",
    "s = input()\n",
    "d = defaultdict(list)\n",
    "\n",
    "for char in s:\n",
    "    if(char.isupper()):\n",
    "        d['upper'].append(char)\n",
    "    if(char.islower()):\n",
    "        d['lower'].append(char)\n",
    "    if(char.isdigit() and int(char)%2==0):\n",
    "        d['even'].append(char)\n",
    "    if(char.isdigit() and int(char)%2!=0):\n",
    "        d['odd'].append(char)\n",
    "\n",
    "print(\"\".join(sorted(d['lower']) + sorted(d['upper']) + sorted(d['odd']) + sorted(d['even']))) "
   ]
  }
 ],
 "metadata": {
  "kernelspec": {
   "display_name": "Python 3",
   "language": "python",
   "name": "python3"
  },
  "language_info": {
   "codemirror_mode": {
    "name": "ipython",
    "version": 3
   },
   "file_extension": ".py",
   "mimetype": "text/x-python",
   "name": "python",
   "nbconvert_exporter": "python",
   "pygments_lexer": "ipython3",
   "version": "3.6.9"
  }
 },
 "nbformat": 4,
 "nbformat_minor": 2
}
