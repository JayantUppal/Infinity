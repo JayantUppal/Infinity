{
 "cells": [
  {
   "cell_type": "markdown",
   "metadata": {},
   "source": [
    "# collections.Counter()"
   ]
  },
  {
   "cell_type": "code",
   "execution_count": 1,
   "metadata": {},
   "outputs": [
    {
     "name": "stdout",
     "output_type": "stream",
     "text": [
      "10\n",
      "2 3 4 5 6 8 7 6 5 18\n",
      "6\n",
      "6 55\n",
      "6 45\n",
      "6 55\n",
      "4 40\n",
      "18 60\n",
      "10 50\n",
      "200\n"
     ]
    }
   ],
   "source": [
    "from collections import Counter\n",
    "\n",
    "X = int(input())\n",
    "\n",
    "shoes = Counter(list(map(int, input().split())))\n",
    "\n",
    "N = int(input())\n",
    "\n",
    "amount = 0\n",
    "for _ in range(N):\n",
    "    size, price = map(int, input().split())\n",
    "    if shoes[size] > 0:\n",
    "        amount += price\n",
    "        shoes[size] -= 1\n",
    "print(amount)"
   ]
  },
  {
   "cell_type": "markdown",
   "metadata": {},
   "source": [
    "# DefaultDict Tutorial"
   ]
  },
  {
   "cell_type": "code",
   "execution_count": 2,
   "metadata": {},
   "outputs": [
    {
     "name": "stdout",
     "output_type": "stream",
     "text": [
      "5 2\n",
      "a\n",
      "a\n",
      "b\n",
      "a\n",
      "b\n",
      "a\n",
      "b\n",
      "1 2 4\n",
      "3 5\n"
     ]
    }
   ],
   "source": [
    "from collections import defaultdict\n",
    "\n",
    "n, m = map(int, input().split())\n",
    "\n",
    "A = defaultdict(list)\n",
    "\n",
    "for i in range(1, n+1):\n",
    "    A[input()].append(i)\n",
    "\n",
    "B = []\n",
    "\n",
    "for i in range(m):\n",
    "    B.append(input())\n",
    "    \n",
    "#Output\n",
    "for letter in B:\n",
    "    if len(A[letter]) == 0:\n",
    "        print(\"-1\")\n",
    "    else:\n",
    "        print(*A[letter])"
   ]
  },
  {
   "cell_type": "markdown",
   "metadata": {},
   "source": [
    "# Collections.namedtuple()"
   ]
  },
  {
   "cell_type": "code",
   "execution_count": 3,
   "metadata": {},
   "outputs": [
    {
     "name": "stdout",
     "output_type": "stream",
     "text": [
      "5\n",
      "ID         MARKS      NAME       CLASS\n",
      "1          97         Raymond    7\n",
      "2          50         Steven     4 \n",
      "3          91         Adrian     9 \n",
      "4          72         Stewart    5 \n",
      "5          80         Peter      6 \n",
      "78.00\n"
     ]
    }
   ],
   "source": [
    "n = int(input())\n",
    "MARKS = [index for (index, column) in enumerate(input().strip().split()) if column == 'MARKS'][0]\n",
    "sum_of_marks = sum([int(input().strip().split()[MARKS]) for i in range(n)])\n",
    "print('{:.2f}'.format(sum_of_marks/n))"
   ]
  },
  {
   "cell_type": "markdown",
   "metadata": {},
   "source": [
    "# Collections.OrderedDict()"
   ]
  },
  {
   "cell_type": "code",
   "execution_count": 4,
   "metadata": {},
   "outputs": [
    {
     "name": "stdout",
     "output_type": "stream",
     "text": [
      "9\n",
      "BANANA FRIES 12\n",
      "POTATO CHIPS 30\n",
      "APPLE JUICE 10\n",
      "CANDY 5\n",
      "APPLE JUICE 10\n",
      "CANDY 5\n",
      "CANDY 5\n",
      "CANDY 5\n",
      "POTATO CHIPS 30\n",
      "BANANA FRIES 12\n",
      "POTATO CHIPS 60\n",
      "APPLE JUICE 20\n",
      "CANDY 20\n"
     ]
    }
   ],
   "source": [
    "from collections import OrderedDict\n",
    "food_price = OrderedDict()\n",
    "\n",
    "for i in range(int(input())):\n",
    "    *food, price = input().split()\n",
    "    name = ' '.join(food)\n",
    "    if name not in food_price:\n",
    "        food_price[name] = int(price)\n",
    "    else:\n",
    "        food_price[name] += int(price)\n",
    "\n",
    "for food, value in food_price.items():\n",
    "    print(food, value)"
   ]
  },
  {
   "cell_type": "markdown",
   "metadata": {},
   "source": [
    "# Collections.deque()"
   ]
  },
  {
   "cell_type": "code",
   "execution_count": 5,
   "metadata": {},
   "outputs": [
    {
     "name": "stdout",
     "output_type": "stream",
     "text": [
      "6\n",
      "append 1\n",
      "append 2\n",
      "append 3\n",
      "appendleft 4\n",
      "pop\n",
      "popleft\n",
      "1 2\n"
     ]
    }
   ],
   "source": [
    "from collections import deque\n",
    "d = deque()\n",
    "\n",
    "for i in range(int(input())):\n",
    "    func, *value = input().split()\n",
    "    if func == 'append':\n",
    "        d.append(int(value[0]))\n",
    "    elif func == 'appendleft':\n",
    "        d.appendleft(int(value[0]))\n",
    "    elif func == 'pop':\n",
    "        d.pop()\n",
    "    else:\n",
    "        d.popleft()\n",
    "\n",
    "print(*d)"
   ]
  },
  {
   "cell_type": "markdown",
   "metadata": {},
   "source": [
    "# Word Order"
   ]
  },
  {
   "cell_type": "code",
   "execution_count": 6,
   "metadata": {},
   "outputs": [
    {
     "name": "stdout",
     "output_type": "stream",
     "text": [
      "4\n",
      "bcdef\n",
      "abcdefg\n",
      "bcde\n",
      "bcdef\n",
      "3\n",
      "2 1 1\n"
     ]
    }
   ],
   "source": [
    "from collections import OrderedDict\n",
    "words = OrderedDict()\n",
    "\n",
    "for _ in range(int(input())):\n",
    "    word = input()\n",
    "    if word not in words:\n",
    "        words[word] = 1\n",
    "    else:\n",
    "        words[word] += 1\n",
    "\n",
    "print(len(words))\n",
    "print(*words.values())"
   ]
  },
  {
   "cell_type": "markdown",
   "metadata": {},
   "source": [
    "# Company Logo"
   ]
  },
  {
   "cell_type": "code",
   "execution_count": 7,
   "metadata": {},
   "outputs": [
    {
     "name": "stdout",
     "output_type": "stream",
     "text": [
      "aabbbccde\n",
      "b 3\n",
      "a 2\n",
      "c 2\n"
     ]
    }
   ],
   "source": [
    "from collections import defaultdict\n",
    "\n",
    "string = input()\n",
    "\n",
    "d = defaultdict(int)\n",
    "\n",
    "for s in string:\n",
    "    d[s] += 1\n",
    "\n",
    "for letter, freq in sorted(d.items(), key = lambda x : (-x[1], x[0]))[:3]:\n",
    "    print(letter, freq)"
   ]
  },
  {
   "cell_type": "markdown",
   "metadata": {},
   "source": [
    "# Piling Up!"
   ]
  },
  {
   "cell_type": "code",
   "execution_count": 10,
   "metadata": {},
   "outputs": [
    {
     "name": "stdout",
     "output_type": "stream",
     "text": [
      "2\n",
      "6\n",
      "4 3 2 1 3 4\n",
      "3\n",
      "1 3 2\n",
      "Yes\n",
      "No\n"
     ]
    }
   ],
   "source": [
    "from collections import deque\n",
    "import sys\n",
    "\n",
    "def maximum(a, b):\n",
    "    if a>=b:\n",
    "        return a\n",
    "    else:\n",
    "        return b\n",
    "\n",
    "if __name__ == \"__main__\":\n",
    "    test = int(input())\n",
    "    cases = []\n",
    "    for _ in range(test):\n",
    "        n = int(input())\n",
    "        arr = list(map(int, input().split()))\n",
    "        cases.append(arr)\n",
    "\n",
    "    for case in cases:\n",
    "        d = deque(case)\n",
    "        current_max = sys.maxsize\n",
    "        while len(d) != 0:\n",
    "            find_max = maximum(d[0], d[-1])\n",
    "            if find_max > current_max:\n",
    "                break\n",
    "            current_max = find_max\n",
    "            if d[0] == current_max:\n",
    "                d.popleft()\n",
    "            elif d[-1] == current_max:\n",
    "                d.pop()\n",
    "        if len(d) != 0:\n",
    "            print(\"No\")\n",
    "        else:\n",
    "            print(\"Yes\")"
   ]
  }
 ],
 "metadata": {
  "kernelspec": {
   "display_name": "Python 3",
   "language": "python",
   "name": "python3"
  },
  "language_info": {
   "codemirror_mode": {
    "name": "ipython",
    "version": 3
   },
   "file_extension": ".py",
   "mimetype": "text/x-python",
   "name": "python",
   "nbconvert_exporter": "python",
   "pygments_lexer": "ipython3",
   "version": "3.6.9"
  }
 },
 "nbformat": 4,
 "nbformat_minor": 2
}
