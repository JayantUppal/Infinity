{
 "cells": [
  {
   "cell_type": "markdown",
   "id": "planned-guatemala",
   "metadata": {},
   "source": [
    "# Introduction\n",
    "Cryptocurrency is the future of online currency and traditional trading. Due to the recent rise of technology and market changes, everyone wants to buy cryptocurrency. I’ll be building a basic Deep Neural Network model to predict Ethereum closing price for future dates based on historical data."
   ]
  },
  {
   "cell_type": "code",
   "execution_count": 1,
   "id": "understood-moses",
   "metadata": {},
   "outputs": [
    {
     "name": "stderr",
     "output_type": "stream",
     "text": [
      "Using TensorFlow backend.\n"
     ]
    }
   ],
   "source": [
    "# Loading all the libraries and dependencies required\n",
    "import numpy as np\n",
    "import pandas as pd\n",
    "import matplotlib.pyplot as plt\n",
    "import seaborn as sns\n",
    "\n",
    "from sklearn.metrics import mean_squared_error\n",
    "from sklearn.preprocessing import MinMaxScaler\n",
    "\n",
    "from keras.models import Sequential\n",
    "from keras.layers import Activation, Dense, Dropout, LSTM\n",
    "\n",
    "%matplotlib inline"
   ]
  },
  {
   "cell_type": "markdown",
   "id": "velvet-teddy",
   "metadata": {},
   "source": [
    "# Dataset \n",
    " - Source -> https://www.cryptodatadownload.com/data/binance/\n",
    " - We now have the historical data of ethereum from 18 December,2017 to 16 April, 2021.\n",
    " - This data is sorted by time and recorded at equal intervals (1-day). Such a sequence of data is called Time Series.\n",
    " - When we do Time Series forecasting, the value of current time step affects the next one.\n",
    " - There are many methods that you can use for this purpose. But we’ll build a Deep Neural Network  to predict future Ethereum price.\n",
    " - Reason behind choosing ethereum:\n",
    "    + Very secure\n",
    "    + Much more scalable than Bitcoin\n",
    "    + Smart contracts, dApps\n",
    "    + Revolutionary blockchain technology"
   ]
  },
  {
   "cell_type": "markdown",
   "id": "chubby-princeton",
   "metadata": {},
   "source": [
    "#### Making dataset ready  "
   ]
  },
  {
   "cell_type": "code",
   "execution_count": 2,
   "id": "foreign-rendering",
   "metadata": {},
   "outputs": [
    {
     "data": {
      "text/html": [
       "<div>\n",
       "<style scoped>\n",
       "    .dataframe tbody tr th:only-of-type {\n",
       "        vertical-align: middle;\n",
       "    }\n",
       "\n",
       "    .dataframe tbody tr th {\n",
       "        vertical-align: top;\n",
       "    }\n",
       "\n",
       "    .dataframe thead th {\n",
       "        text-align: right;\n",
       "    }\n",
       "</style>\n",
       "<table border=\"1\" class=\"dataframe\">\n",
       "  <thead>\n",
       "    <tr style=\"text-align: right;\">\n",
       "      <th></th>\n",
       "      <th>unix</th>\n",
       "      <th>date</th>\n",
       "      <th>symbol</th>\n",
       "      <th>open</th>\n",
       "      <th>high</th>\n",
       "      <th>low</th>\n",
       "      <th>close</th>\n",
       "      <th>Volume ETH</th>\n",
       "      <th>Volume USDT</th>\n",
       "      <th>tradecount</th>\n",
       "    </tr>\n",
       "  </thead>\n",
       "  <tbody>\n",
       "    <tr>\n",
       "      <th>0</th>\n",
       "      <td>1618531200000</td>\n",
       "      <td>2021-04-16 00:00:00</td>\n",
       "      <td>ETH/USDT</td>\n",
       "      <td>2514.04</td>\n",
       "      <td>2548.29</td>\n",
       "      <td>2300.00</td>\n",
       "      <td>2422.67</td>\n",
       "      <td>999163.75205</td>\n",
       "      <td>2.418567e+09</td>\n",
       "      <td>1679215</td>\n",
       "    </tr>\n",
       "    <tr>\n",
       "      <th>1</th>\n",
       "      <td>1618444800000</td>\n",
       "      <td>2021-04-15 00:00:00</td>\n",
       "      <td>ETH/USDT</td>\n",
       "      <td>2432.59</td>\n",
       "      <td>2543.47</td>\n",
       "      <td>2400.00</td>\n",
       "      <td>2514.04</td>\n",
       "      <td>681950.96645</td>\n",
       "      <td>1.680063e+09</td>\n",
       "      <td>1462768</td>\n",
       "    </tr>\n",
       "    <tr>\n",
       "      <th>2</th>\n",
       "      <td>1618358400000</td>\n",
       "      <td>2021-04-14 00:00:00</td>\n",
       "      <td>ETH/USDT</td>\n",
       "      <td>2299.19</td>\n",
       "      <td>2447.29</td>\n",
       "      <td>2281.33</td>\n",
       "      <td>2432.60</td>\n",
       "      <td>972931.60866</td>\n",
       "      <td>2.294753e+09</td>\n",
       "      <td>1554097</td>\n",
       "    </tr>\n",
       "    <tr>\n",
       "      <th>3</th>\n",
       "      <td>1618272000000</td>\n",
       "      <td>2021-04-13 00:00:00</td>\n",
       "      <td>ETH/USDT</td>\n",
       "      <td>2137.86</td>\n",
       "      <td>2318.00</td>\n",
       "      <td>2135.53</td>\n",
       "      <td>2299.19</td>\n",
       "      <td>782608.62090</td>\n",
       "      <td>1.745822e+09</td>\n",
       "      <td>1288668</td>\n",
       "    </tr>\n",
       "    <tr>\n",
       "      <th>4</th>\n",
       "      <td>1618185600000</td>\n",
       "      <td>2021-04-12 00:00:00</td>\n",
       "      <td>ETH/USDT</td>\n",
       "      <td>2151.42</td>\n",
       "      <td>2203.46</td>\n",
       "      <td>2102.00</td>\n",
       "      <td>2137.69</td>\n",
       "      <td>579093.35694</td>\n",
       "      <td>1.244983e+09</td>\n",
       "      <td>914567</td>\n",
       "    </tr>\n",
       "  </tbody>\n",
       "</table>\n",
       "</div>"
      ],
      "text/plain": [
       "            unix                 date    symbol     open     high      low  \\\n",
       "0  1618531200000  2021-04-16 00:00:00  ETH/USDT  2514.04  2548.29  2300.00   \n",
       "1  1618444800000  2021-04-15 00:00:00  ETH/USDT  2432.59  2543.47  2400.00   \n",
       "2  1618358400000  2021-04-14 00:00:00  ETH/USDT  2299.19  2447.29  2281.33   \n",
       "3  1618272000000  2021-04-13 00:00:00  ETH/USDT  2137.86  2318.00  2135.53   \n",
       "4  1618185600000  2021-04-12 00:00:00  ETH/USDT  2151.42  2203.46  2102.00   \n",
       "\n",
       "     close    Volume ETH   Volume USDT  tradecount  \n",
       "0  2422.67  999163.75205  2.418567e+09     1679215  \n",
       "1  2514.04  681950.96645  1.680063e+09     1462768  \n",
       "2  2432.60  972931.60866  2.294753e+09     1554097  \n",
       "3  2299.19  782608.62090  1.745822e+09     1288668  \n",
       "4  2137.69  579093.35694  1.244983e+09      914567  "
      ]
     },
     "execution_count": 2,
     "metadata": {},
     "output_type": "execute_result"
    }
   ],
   "source": [
    "# Reading data from csv and storing it into a dataframe\n",
    "df = pd.read_csv('Binance_ETHUSDT_d.csv')\n",
    "df.head()"
   ]
  },
  {
   "cell_type": "code",
   "execution_count": 3,
   "id": "favorite-venue",
   "metadata": {},
   "outputs": [
    {
     "data": {
      "text/html": [
       "<div>\n",
       "<style scoped>\n",
       "    .dataframe tbody tr th:only-of-type {\n",
       "        vertical-align: middle;\n",
       "    }\n",
       "\n",
       "    .dataframe tbody tr th {\n",
       "        vertical-align: top;\n",
       "    }\n",
       "\n",
       "    .dataframe thead th {\n",
       "        text-align: right;\n",
       "    }\n",
       "</style>\n",
       "<table border=\"1\" class=\"dataframe\">\n",
       "  <thead>\n",
       "    <tr style=\"text-align: right;\">\n",
       "      <th></th>\n",
       "      <th>unix</th>\n",
       "      <th>date</th>\n",
       "      <th>symbol</th>\n",
       "      <th>open</th>\n",
       "      <th>high</th>\n",
       "      <th>low</th>\n",
       "      <th>close</th>\n",
       "      <th>Volume ETH</th>\n",
       "      <th>Volume USDT</th>\n",
       "      <th>tradecount</th>\n",
       "    </tr>\n",
       "  </thead>\n",
       "  <tbody>\n",
       "    <tr>\n",
       "      <th>0</th>\n",
       "      <td>1618531200000</td>\n",
       "      <td>2021-04-16</td>\n",
       "      <td>ETH/USDT</td>\n",
       "      <td>2514.04</td>\n",
       "      <td>2548.29</td>\n",
       "      <td>2300.00</td>\n",
       "      <td>2422.67</td>\n",
       "      <td>999163.75205</td>\n",
       "      <td>2.418567e+09</td>\n",
       "      <td>1679215</td>\n",
       "    </tr>\n",
       "    <tr>\n",
       "      <th>1</th>\n",
       "      <td>1618444800000</td>\n",
       "      <td>2021-04-15</td>\n",
       "      <td>ETH/USDT</td>\n",
       "      <td>2432.59</td>\n",
       "      <td>2543.47</td>\n",
       "      <td>2400.00</td>\n",
       "      <td>2514.04</td>\n",
       "      <td>681950.96645</td>\n",
       "      <td>1.680063e+09</td>\n",
       "      <td>1462768</td>\n",
       "    </tr>\n",
       "    <tr>\n",
       "      <th>2</th>\n",
       "      <td>1618358400000</td>\n",
       "      <td>2021-04-14</td>\n",
       "      <td>ETH/USDT</td>\n",
       "      <td>2299.19</td>\n",
       "      <td>2447.29</td>\n",
       "      <td>2281.33</td>\n",
       "      <td>2432.60</td>\n",
       "      <td>972931.60866</td>\n",
       "      <td>2.294753e+09</td>\n",
       "      <td>1554097</td>\n",
       "    </tr>\n",
       "    <tr>\n",
       "      <th>3</th>\n",
       "      <td>1618272000000</td>\n",
       "      <td>2021-04-13</td>\n",
       "      <td>ETH/USDT</td>\n",
       "      <td>2137.86</td>\n",
       "      <td>2318.00</td>\n",
       "      <td>2135.53</td>\n",
       "      <td>2299.19</td>\n",
       "      <td>782608.62090</td>\n",
       "      <td>1.745822e+09</td>\n",
       "      <td>1288668</td>\n",
       "    </tr>\n",
       "    <tr>\n",
       "      <th>4</th>\n",
       "      <td>1618185600000</td>\n",
       "      <td>2021-04-12</td>\n",
       "      <td>ETH/USDT</td>\n",
       "      <td>2151.42</td>\n",
       "      <td>2203.46</td>\n",
       "      <td>2102.00</td>\n",
       "      <td>2137.69</td>\n",
       "      <td>579093.35694</td>\n",
       "      <td>1.244983e+09</td>\n",
       "      <td>914567</td>\n",
       "    </tr>\n",
       "  </tbody>\n",
       "</table>\n",
       "</div>"
      ],
      "text/plain": [
       "            unix        date    symbol     open     high      low    close  \\\n",
       "0  1618531200000  2021-04-16  ETH/USDT  2514.04  2548.29  2300.00  2422.67   \n",
       "1  1618444800000  2021-04-15  ETH/USDT  2432.59  2543.47  2400.00  2514.04   \n",
       "2  1618358400000  2021-04-14  ETH/USDT  2299.19  2447.29  2281.33  2432.60   \n",
       "3  1618272000000  2021-04-13  ETH/USDT  2137.86  2318.00  2135.53  2299.19   \n",
       "4  1618185600000  2021-04-12  ETH/USDT  2151.42  2203.46  2102.00  2137.69   \n",
       "\n",
       "     Volume ETH   Volume USDT  tradecount  \n",
       "0  999163.75205  2.418567e+09     1679215  \n",
       "1  681950.96645  1.680063e+09     1462768  \n",
       "2  972931.60866  2.294753e+09     1554097  \n",
       "3  782608.62090  1.745822e+09     1288668  \n",
       "4  579093.35694  1.244983e+09      914567  "
      ]
     },
     "execution_count": 3,
     "metadata": {},
     "output_type": "execute_result"
    }
   ],
   "source": [
    "# Since, all the timestamps are of midnight, removing time from date column\n",
    "def return_date(x):\n",
    "    return x.split()[0]\n",
    "df['date'] = df['date'].apply(return_date)\n",
    "df.head()"
   ]
  },
  {
   "cell_type": "code",
   "execution_count": 4,
   "id": "standard-interface",
   "metadata": {},
   "outputs": [
    {
     "data": {
      "text/html": [
       "<div>\n",
       "<style scoped>\n",
       "    .dataframe tbody tr th:only-of-type {\n",
       "        vertical-align: middle;\n",
       "    }\n",
       "\n",
       "    .dataframe tbody tr th {\n",
       "        vertical-align: top;\n",
       "    }\n",
       "\n",
       "    .dataframe thead th {\n",
       "        text-align: right;\n",
       "    }\n",
       "</style>\n",
       "<table border=\"1\" class=\"dataframe\">\n",
       "  <thead>\n",
       "    <tr style=\"text-align: right;\">\n",
       "      <th></th>\n",
       "      <th>unix</th>\n",
       "      <th>date</th>\n",
       "      <th>symbol</th>\n",
       "      <th>open</th>\n",
       "      <th>high</th>\n",
       "      <th>low</th>\n",
       "      <th>close</th>\n",
       "      <th>Volume ETH</th>\n",
       "      <th>Volume USDT</th>\n",
       "      <th>tradecount</th>\n",
       "    </tr>\n",
       "  </thead>\n",
       "  <tbody>\n",
       "    <tr>\n",
       "      <th>1215</th>\n",
       "      <td>1513555200000</td>\n",
       "      <td>2017-12-18</td>\n",
       "      <td>ETH/USDT</td>\n",
       "      <td>707.62</td>\n",
       "      <td>798.88</td>\n",
       "      <td>638.00</td>\n",
       "      <td>784.00</td>\n",
       "      <td>45673.70777</td>\n",
       "      <td>3.279995e+07</td>\n",
       "      <td>40460</td>\n",
       "    </tr>\n",
       "    <tr>\n",
       "      <th>1214</th>\n",
       "      <td>1513641600000</td>\n",
       "      <td>2017-12-19</td>\n",
       "      <td>ETH/USDT</td>\n",
       "      <td>784.00</td>\n",
       "      <td>864.90</td>\n",
       "      <td>729.01</td>\n",
       "      <td>798.00</td>\n",
       "      <td>69423.62125</td>\n",
       "      <td>5.512397e+07</td>\n",
       "      <td>57020</td>\n",
       "    </tr>\n",
       "    <tr>\n",
       "      <th>1213</th>\n",
       "      <td>1513728000000</td>\n",
       "      <td>2017-12-20</td>\n",
       "      <td>ETH/USDT</td>\n",
       "      <td>798.00</td>\n",
       "      <td>828.00</td>\n",
       "      <td>661.00</td>\n",
       "      <td>790.21</td>\n",
       "      <td>72526.28416</td>\n",
       "      <td>5.560451e+07</td>\n",
       "      <td>58344</td>\n",
       "    </tr>\n",
       "    <tr>\n",
       "      <th>1212</th>\n",
       "      <td>1513814400000</td>\n",
       "      <td>2017-12-21</td>\n",
       "      <td>ETH/USDT</td>\n",
       "      <td>794.62</td>\n",
       "      <td>845.99</td>\n",
       "      <td>705.98</td>\n",
       "      <td>782.41</td>\n",
       "      <td>78222.53998</td>\n",
       "      <td>6.205252e+07</td>\n",
       "      <td>57627</td>\n",
       "    </tr>\n",
       "    <tr>\n",
       "      <th>1211</th>\n",
       "      <td>1513900800000</td>\n",
       "      <td>2017-12-22</td>\n",
       "      <td>ETH/USDT</td>\n",
       "      <td>784.00</td>\n",
       "      <td>796.00</td>\n",
       "      <td>504.99</td>\n",
       "      <td>635.97</td>\n",
       "      <td>154630.49482</td>\n",
       "      <td>9.866181e+07</td>\n",
       "      <td>113138</td>\n",
       "    </tr>\n",
       "  </tbody>\n",
       "</table>\n",
       "</div>"
      ],
      "text/plain": [
       "               unix        date    symbol    open    high     low   close  \\\n",
       "1215  1513555200000  2017-12-18  ETH/USDT  707.62  798.88  638.00  784.00   \n",
       "1214  1513641600000  2017-12-19  ETH/USDT  784.00  864.90  729.01  798.00   \n",
       "1213  1513728000000  2017-12-20  ETH/USDT  798.00  828.00  661.00  790.21   \n",
       "1212  1513814400000  2017-12-21  ETH/USDT  794.62  845.99  705.98  782.41   \n",
       "1211  1513900800000  2017-12-22  ETH/USDT  784.00  796.00  504.99  635.97   \n",
       "\n",
       "        Volume ETH   Volume USDT  tradecount  \n",
       "1215   45673.70777  3.279995e+07       40460  \n",
       "1214   69423.62125  5.512397e+07       57020  \n",
       "1213   72526.28416  5.560451e+07       58344  \n",
       "1212   78222.53998  6.205252e+07       57627  \n",
       "1211  154630.49482  9.866181e+07      113138  "
      ]
     },
     "execution_count": 4,
     "metadata": {},
     "output_type": "execute_result"
    }
   ],
   "source": [
    "# Sorting values to get old ones first and we predict the latest ones\n",
    "df.sort_values(\"date\", axis = 0, ascending = True, inplace = True)\n",
    "df.head()"
   ]
  },
  {
   "cell_type": "code",
   "execution_count": 5,
   "id": "upset-spokesman",
   "metadata": {},
   "outputs": [
    {
     "data": {
      "image/png": "[encoded data removed]",
      "text/plain": [
       "<Figure size 1080x720 with 1 Axes>"
      ]
     },
     "metadata": {},
     "output_type": "display_data"
    }
   ],
   "source": [
    "# Here's a plot of Ethereum prices from December, 2017 to April, 2021\n",
    "df.plot('date','close', figsize=(15,10))\n",
    "plt.xticks(rotation=45);"
   ]
  },
  {
   "cell_type": "markdown",
   "id": "light-links",
   "metadata": {},
   "source": [
    " - Start-date -> 18/12/2017\n",
    " -  End-date -> 16/04/2021\n",
    " - We can observe that there is a clear dip in prices between December 2017 and July 2018. Then, prices remain constant with spikes till July 2020. Then, prices keep on increasing till April 2021 with fluctuations happening in the months of January and February. "
   ]
  },
  {
   "cell_type": "code",
   "execution_count": 6,
   "id": "sorted-chart",
   "metadata": {},
   "outputs": [
    {
     "data": {
      "text/plain": [
       "(1216, 10)"
      ]
     },
     "execution_count": 6,
     "metadata": {},
     "output_type": "execute_result"
    }
   ],
   "source": [
    "# We have almost 3 years of data and 10 columns\n",
    "df.shape"
   ]
  },
  {
   "cell_type": "code",
   "execution_count": 7,
   "id": "controversial-motel",
   "metadata": {},
   "outputs": [
    {
     "data": {
      "text/html": [
       "<div>\n",
       "<style scoped>\n",
       "    .dataframe tbody tr th:only-of-type {\n",
       "        vertical-align: middle;\n",
       "    }\n",
       "\n",
       "    .dataframe tbody tr th {\n",
       "        vertical-align: top;\n",
       "    }\n",
       "\n",
       "    .dataframe thead th {\n",
       "        text-align: right;\n",
       "    }\n",
       "</style>\n",
       "<table border=\"1\" class=\"dataframe\">\n",
       "  <thead>\n",
       "    <tr style=\"text-align: right;\">\n",
       "      <th></th>\n",
       "      <th>unix</th>\n",
       "      <th>symbol</th>\n",
       "      <th>open</th>\n",
       "      <th>high</th>\n",
       "      <th>low</th>\n",
       "      <th>close</th>\n",
       "      <th>Volume ETH</th>\n",
       "      <th>Volume USDT</th>\n",
       "      <th>tradecount</th>\n",
       "    </tr>\n",
       "    <tr>\n",
       "      <th>date</th>\n",
       "      <th></th>\n",
       "      <th></th>\n",
       "      <th></th>\n",
       "      <th></th>\n",
       "      <th></th>\n",
       "      <th></th>\n",
       "      <th></th>\n",
       "      <th></th>\n",
       "      <th></th>\n",
       "    </tr>\n",
       "  </thead>\n",
       "  <tbody>\n",
       "    <tr>\n",
       "      <th>2017-12-18</th>\n",
       "      <td>1513555200000</td>\n",
       "      <td>ETH/USDT</td>\n",
       "      <td>707.62</td>\n",
       "      <td>798.88</td>\n",
       "      <td>638.00</td>\n",
       "      <td>784.00</td>\n",
       "      <td>45673.70777</td>\n",
       "      <td>3.279995e+07</td>\n",
       "      <td>40460</td>\n",
       "    </tr>\n",
       "    <tr>\n",
       "      <th>2017-12-19</th>\n",
       "      <td>1513641600000</td>\n",
       "      <td>ETH/USDT</td>\n",
       "      <td>784.00</td>\n",
       "      <td>864.90</td>\n",
       "      <td>729.01</td>\n",
       "      <td>798.00</td>\n",
       "      <td>69423.62125</td>\n",
       "      <td>5.512397e+07</td>\n",
       "      <td>57020</td>\n",
       "    </tr>\n",
       "    <tr>\n",
       "      <th>2017-12-20</th>\n",
       "      <td>1513728000000</td>\n",
       "      <td>ETH/USDT</td>\n",
       "      <td>798.00</td>\n",
       "      <td>828.00</td>\n",
       "      <td>661.00</td>\n",
       "      <td>790.21</td>\n",
       "      <td>72526.28416</td>\n",
       "      <td>5.560451e+07</td>\n",
       "      <td>58344</td>\n",
       "    </tr>\n",
       "    <tr>\n",
       "      <th>2017-12-21</th>\n",
       "      <td>1513814400000</td>\n",
       "      <td>ETH/USDT</td>\n",
       "      <td>794.62</td>\n",
       "      <td>845.99</td>\n",
       "      <td>705.98</td>\n",
       "      <td>782.41</td>\n",
       "      <td>78222.53998</td>\n",
       "      <td>6.205252e+07</td>\n",
       "      <td>57627</td>\n",
       "    </tr>\n",
       "    <tr>\n",
       "      <th>2017-12-22</th>\n",
       "      <td>1513900800000</td>\n",
       "      <td>ETH/USDT</td>\n",
       "      <td>784.00</td>\n",
       "      <td>796.00</td>\n",
       "      <td>504.99</td>\n",
       "      <td>635.97</td>\n",
       "      <td>154630.49482</td>\n",
       "      <td>9.866181e+07</td>\n",
       "      <td>113138</td>\n",
       "    </tr>\n",
       "  </tbody>\n",
       "</table>\n",
       "</div>"
      ],
      "text/plain": [
       "                     unix    symbol    open    high     low   close  \\\n",
       "date                                                                  \n",
       "2017-12-18  1513555200000  ETH/USDT  707.62  798.88  638.00  784.00   \n",
       "2017-12-19  1513641600000  ETH/USDT  784.00  864.90  729.01  798.00   \n",
       "2017-12-20  1513728000000  ETH/USDT  798.00  828.00  661.00  790.21   \n",
       "2017-12-21  1513814400000  ETH/USDT  794.62  845.99  705.98  782.41   \n",
       "2017-12-22  1513900800000  ETH/USDT  784.00  796.00  504.99  635.97   \n",
       "\n",
       "              Volume ETH   Volume USDT  tradecount  \n",
       "date                                                \n",
       "2017-12-18   45673.70777  3.279995e+07       40460  \n",
       "2017-12-19   69423.62125  5.512397e+07       57020  \n",
       "2017-12-20   72526.28416  5.560451e+07       58344  \n",
       "2017-12-21   78222.53998  6.205252e+07       57627  \n",
       "2017-12-22  154630.49482  9.866181e+07      113138  "
      ]
     },
     "execution_count": 7,
     "metadata": {},
     "output_type": "execute_result"
    }
   ],
   "source": [
    "# Setting date as index for better modelling\n",
    "df = df.set_index('date')\n",
    "df.head()"
   ]
  },
  {
   "cell_type": "code",
   "execution_count": 8,
   "id": "classical-execution",
   "metadata": {},
   "outputs": [],
   "source": [
    "# Dropping columns which are not required in analysis\n",
    "df.drop(['unix', 'symbol', 'tradecount'], axis = 1, inplace = True)"
   ]
  },
  {
   "cell_type": "code",
   "execution_count": 9,
   "id": "enabling-boards",
   "metadata": {},
   "outputs": [
    {
     "data": {
      "text/html": [
       "<div>\n",
       "<style scoped>\n",
       "    .dataframe tbody tr th:only-of-type {\n",
       "        vertical-align: middle;\n",
       "    }\n",
       "\n",
       "    .dataframe tbody tr th {\n",
       "        vertical-align: top;\n",
       "    }\n",
       "\n",
       "    .dataframe thead th {\n",
       "        text-align: right;\n",
       "    }\n",
       "</style>\n",
       "<table border=\"1\" class=\"dataframe\">\n",
       "  <thead>\n",
       "    <tr style=\"text-align: right;\">\n",
       "      <th></th>\n",
       "      <th>open</th>\n",
       "      <th>high</th>\n",
       "      <th>low</th>\n",
       "      <th>close</th>\n",
       "      <th>Volume ETH</th>\n",
       "      <th>Volume USDT</th>\n",
       "    </tr>\n",
       "    <tr>\n",
       "      <th>date</th>\n",
       "      <th></th>\n",
       "      <th></th>\n",
       "      <th></th>\n",
       "      <th></th>\n",
       "      <th></th>\n",
       "      <th></th>\n",
       "    </tr>\n",
       "  </thead>\n",
       "  <tbody>\n",
       "    <tr>\n",
       "      <th>2017-12-18</th>\n",
       "      <td>707.62</td>\n",
       "      <td>798.88</td>\n",
       "      <td>638.00</td>\n",
       "      <td>784.00</td>\n",
       "      <td>45673.70777</td>\n",
       "      <td>3.279995e+07</td>\n",
       "    </tr>\n",
       "    <tr>\n",
       "      <th>2017-12-19</th>\n",
       "      <td>784.00</td>\n",
       "      <td>864.90</td>\n",
       "      <td>729.01</td>\n",
       "      <td>798.00</td>\n",
       "      <td>69423.62125</td>\n",
       "      <td>5.512397e+07</td>\n",
       "    </tr>\n",
       "    <tr>\n",
       "      <th>2017-12-20</th>\n",
       "      <td>798.00</td>\n",
       "      <td>828.00</td>\n",
       "      <td>661.00</td>\n",
       "      <td>790.21</td>\n",
       "      <td>72526.28416</td>\n",
       "      <td>5.560451e+07</td>\n",
       "    </tr>\n",
       "    <tr>\n",
       "      <th>2017-12-21</th>\n",
       "      <td>794.62</td>\n",
       "      <td>845.99</td>\n",
       "      <td>705.98</td>\n",
       "      <td>782.41</td>\n",
       "      <td>78222.53998</td>\n",
       "      <td>6.205252e+07</td>\n",
       "    </tr>\n",
       "    <tr>\n",
       "      <th>2017-12-22</th>\n",
       "      <td>784.00</td>\n",
       "      <td>796.00</td>\n",
       "      <td>504.99</td>\n",
       "      <td>635.97</td>\n",
       "      <td>154630.49482</td>\n",
       "      <td>9.866181e+07</td>\n",
       "    </tr>\n",
       "  </tbody>\n",
       "</table>\n",
       "</div>"
      ],
      "text/plain": [
       "              open    high     low   close    Volume ETH   Volume USDT\n",
       "date                                                                  \n",
       "2017-12-18  707.62  798.88  638.00  784.00   45673.70777  3.279995e+07\n",
       "2017-12-19  784.00  864.90  729.01  798.00   69423.62125  5.512397e+07\n",
       "2017-12-20  798.00  828.00  661.00  790.21   72526.28416  5.560451e+07\n",
       "2017-12-21  794.62  845.99  705.98  782.41   78222.53998  6.205252e+07\n",
       "2017-12-22  784.00  796.00  504.99  635.97  154630.49482  9.866181e+07"
      ]
     },
     "execution_count": 9,
     "metadata": {},
     "output_type": "execute_result"
    }
   ],
   "source": [
    "df.head()"
   ]
  },
  {
   "cell_type": "markdown",
   "id": "dutch-volleyball",
   "metadata": {},
   "source": [
    "- And here's our final dataset! Columns of dataset:\n",
    "   - close -> It is the market close price for currency for that particular day.\n",
    "   - high -> It is highest price of currency for the day.\n",
    "   - low -> It is the lowest price for currency for that day.\n",
    "   - open -> It is market open price for currency for that day.\n",
    "   - Volume ETH -> The volume of currency that is being in trade for that day.\n",
    "   - Volume USDT -> The volume of currency that is being in trade for that day in US dollars"
   ]
  },
  {
   "cell_type": "markdown",
   "id": "starting-sport",
   "metadata": {},
   "source": [
    "# Data Processing\n",
    "- Our model will use previous data to predict the next day’s closing price of a specific coin. LSTM (Why LSTM? Explained later) requires the input to be a 3D tensor with shape (batch_size, window_size, input_dim). I must decide how many previous days it will have access to. Again, it’s random, but I’ll go for 10 days. I will re-organize the data in a way that a sequence of the values in previous 10 days is used to predict the value at a time t. We build little data frames consisting of 10 consecutive days of data called windows, so the first window will consist of the 0-9th rows of the training set, the second will be the rows 1-10, etc. Picking a small window size means we can feed more windows into our model; the downside is that the model may not have sufficient information to detect complex long term behaviours.\n",
    "\n",
    "- Here, I only use \"close\" price to make the prediction so the input_dim is 1. The target variable is \"close\" price of ethereum which can be effected by many other factors. If you also use a second variable to make the prediction, than the input_dim will be 2."
   ]
  },
  {
   "cell_type": "code",
   "execution_count": 10,
   "id": "spread-gothic",
   "metadata": {},
   "outputs": [],
   "source": [
    "data = df.iloc[:, 3]\n",
    "windows = []\n",
    "target = []\n",
    "length = 10\n",
    "for i in range(len(data)-length):\n",
    "    x = data[i:i+length]\n",
    "    y = data[i+length]\n",
    "    windows.append(x)\n",
    "    target.append(y)"
   ]
  },
  {
   "cell_type": "code",
   "execution_count": 11,
   "id": "hydraulic-sight",
   "metadata": {},
   "outputs": [
    {
     "data": {
      "text/plain": [
       "((1206, 10), (1206, 1))"
      ]
     },
     "execution_count": 11,
     "metadata": {},
     "output_type": "execute_result"
    }
   ],
   "source": [
    "windows = np.array(windows)\n",
    "target = np.array(target)\n",
    "target = target.reshape(-1,1)\n",
    "windows.shape, target.shape"
   ]
  },
  {
   "cell_type": "markdown",
   "id": "labeled-opportunity",
   "metadata": {},
   "source": [
    "- Also, I am going to squish our price data in a specific range. This will help our optimization algorithm converge faster. Normalization is a technique often applied as part of data preparation for machine learning. The goal of normalization is to change the values of numeric columns in the dataset to a common scale, without distorting differences in the ranges of values. For this, I have used MinMax Scaler from sklearn.\n",
    "\n",
    "- MinMaxScaler transform features by scaling each feature to a given range. This estimator scales and translates each feature individually such that it is in the given range. "
   ]
  },
  {
   "cell_type": "code",
   "execution_count": 12,
   "id": "second-hartford",
   "metadata": {},
   "outputs": [],
   "source": [
    "from sklearn.preprocessing import MinMaxScaler\n",
    "sc = MinMaxScaler()\n",
    "windows_scaled = sc.fit_transform(windows)\n",
    "target_scaled = sc.fit_transform(target)"
   ]
  },
  {
   "cell_type": "code",
   "execution_count": 13,
   "id": "uniform-bracket",
   "metadata": {},
   "outputs": [
    {
     "data": {
      "text/plain": [
       "(1206, 10, 1)"
      ]
     },
     "execution_count": 13,
     "metadata": {},
     "output_type": "execute_result"
    }
   ],
   "source": [
    "windows_scaled = windows_scaled.reshape((len(windows_scaled), length, 1))\n",
    "windows_scaled.shape"
   ]
  },
  {
   "cell_type": "markdown",
   "id": "scientific-prompt",
   "metadata": {},
   "source": [
    "- Next, I split the data into two sets — training set and test set with 80% and 20% data respectively."
   ]
  },
  {
   "cell_type": "code",
   "execution_count": 14,
   "id": "earned-christianity",
   "metadata": {},
   "outputs": [],
   "source": [
    "num_train = int(0.80 * windows_scaled.shape[0])\n",
    "\n",
    "X_train = windows_scaled[:num_train,:,:]\n",
    "X_test = windows_scaled[num_train:,:,:]\n",
    "y_train = target_scaled[:num_train,:]\n",
    "y_test = target_scaled[num_train:,:]"
   ]
  },
  {
   "cell_type": "markdown",
   "id": "synthetic-mobility",
   "metadata": {},
   "source": [
    "- Here's a plot of Ethereum prices from December, 2017 to April, 2021 (Divided in training and testing set)"
   ]
  },
  {
   "cell_type": "code",
   "execution_count": 15,
   "id": "arbitrary-duplicate",
   "metadata": {},
   "outputs": [
    {
     "data": {
      "text/plain": [
       "<matplotlib.legend.Legend at 0x7f9856e0ca58>"
      ]
     },
     "execution_count": 15,
     "metadata": {},
     "output_type": "execute_result"
    },
    {
     "data": {
      "image/png": "[encoded data removed]",
      "text/plain": [
       "<Figure size 936x504 with 1 Axes>"
      ]
     },
     "metadata": {},
     "output_type": "display_data"
    }
   ],
   "source": [
    "fig, ax = plt.subplots(1, figsize=(13, 7))\n",
    "ax.plot(df.iloc[:num_train, 3], label=\"Train\", linewidth=2)\n",
    "ax.plot(df.iloc[num_train:, 3], label=\"Test\", linewidth=2)\n",
    "ax.set_ylabel('Price', fontsize=14)\n",
    "ax.set_title('Ethereum Price Prediction', fontsize=16)\n",
    "ax.get_xaxis().set_visible(False)\n",
    "ax.legend(loc='best', fontsize=16)"
   ]
  },
  {
   "cell_type": "markdown",
   "id": "nuclear-twelve",
   "metadata": {},
   "source": [
    "# Building the Model\n",
    "\n",
    "- I will be using a special class of Neural Network models known as Recurrent Neural Networks (RNNs) just for this purpose. RNNs allow using the output from the model as a new input for the same model. The process can be repeated indefinitely. One serious limitation of RNNs is the inability of capturing long-term dependencies in a sequence. One way to handle the situation is by using an Long short-term memory (LSTM) variant of RNN. The default LSTM behavior is remembering information for prolonged periods of time.\n",
    "\n",
    "- RNN LSTM works by using special gates to allow each LSTM layer to take information from both previous layers and the current layer. The data goes through multiple gates (like forget gate, input gate, etc.) and various activation functions (like the tanh function, relu function) and is passed through the LSTM cells. The main advantage of this is that it allows each LSTM cell to remember patterns for a certain amount of time. The thing to be noted is that LSTM can remember important information and at the same time forget irrelevant information. \n",
    "\n",
    "- Now let’s build the model. Sequential model is used for stacking all the layers (input, hidden and output). The neural network comprises of a LSTM layer followed by Dropout layer and a Dense layer with linear activation function. I complied the model using Adam as the optimizer and Mean Squared Error as the loss function."
   ]
  },
  {
   "cell_type": "code",
   "execution_count": 16,
   "id": "existing-feeling",
   "metadata": {},
   "outputs": [],
   "source": [
    "def build_lstm_model(input_data, output_size, neurons, activ_func, dropout, loss, optimizer):\n",
    "    model = Sequential()\n",
    "    model.add(LSTM(neurons, input_shape=(input_data.shape[1], input_data.shape[2])))\n",
    "    model.add(Dropout(dropout))\n",
    "    model.add(Dense(units=output_size))\n",
    "    model.add(Activation(activ_func))\n",
    "    model.compile(loss=loss, optimizer=optimizer)\n",
    "    return model"
   ]
  },
  {
   "cell_type": "markdown",
   "id": "collect-interest",
   "metadata": {},
   "source": [
    "- I used Mean Squared Error (MSE) as the evaluation metric. MSE is used to check how close estimates or forecasts are to actual values. Lower the MSE, the closer is forecast to actual.\n",
    "\n",
    "- Added 20 %dropout layer in order to reduce overfitting to the training data.\n",
    "\n",
    "- The model uses the AdamOptimizer as its optimization function. The AdamOptimizer is an algorithm for first-order gradient-based optimization of functions and based on adaptive estimates of lower order moments.\n",
    "\n",
    "- A dense layer with a linear activation function is used in this model to determine the output of each neuron in the model."
   ]
  },
  {
   "cell_type": "code",
   "execution_count": 17,
   "id": "incorporate-james",
   "metadata": {},
   "outputs": [],
   "source": [
    "lstm_neurons = 100\n",
    "epochs = 20\n",
    "batch_size = 32\n",
    "loss = 'mse'\n",
    "dropout = 0.2\n",
    "optimizer = 'adam'\n",
    "activ_func = 'linear'"
   ]
  },
  {
   "cell_type": "markdown",
   "id": "cordless-condition",
   "metadata": {},
   "source": [
    "# Training the Model\n",
    "\n",
    "- The model will be fitted to the training data (which was X_train and y_train), with a batch_size of 32. Additionally, 20 epochs will be performed to give the model time to adjust its weights and biases to fit the training data. I also added validation split to see how well model generalizes on unseen data after each epoch."
   ]
  },
  {
   "cell_type": "code",
   "execution_count": 18,
   "id": "twelve-serial",
   "metadata": {},
   "outputs": [
    {
     "name": "stdout",
     "output_type": "stream",
     "text": [
      "Train on 867 samples, validate on 97 samples\n",
      "Epoch 1/20\n",
      "867/867 [==============================] - 0s 528us/step - loss: 0.0035 - val_loss: 9.5474e-05\n",
      "Epoch 2/20\n",
      "867/867 [==============================] - 0s 166us/step - loss: 6.1195e-04 - val_loss: 1.0017e-04\n",
      "Epoch 3/20\n",
      "867/867 [==============================] - 0s 181us/step - loss: 5.5783e-04 - val_loss: 1.3113e-04\n",
      "Epoch 4/20\n",
      "867/867 [==============================] - 0s 186us/step - loss: 5.8590e-04 - val_loss: 3.4815e-04\n",
      "Epoch 5/20\n",
      "867/867 [==============================] - 0s 165us/step - loss: 5.9038e-04 - val_loss: 8.6983e-05\n",
      "Epoch 6/20\n",
      "867/867 [==============================] - 0s 177us/step - loss: 4.8506e-04 - val_loss: 1.0044e-04\n",
      "Epoch 7/20\n",
      "867/867 [==============================] - 0s 185us/step - loss: 5.0948e-04 - val_loss: 4.3166e-04\n",
      "Epoch 8/20\n",
      "867/867 [==============================] - 0s 183us/step - loss: 6.2589e-04 - val_loss: 5.8379e-05\n",
      "Epoch 9/20\n",
      "867/867 [==============================] - 0s 194us/step - loss: 4.8102e-04 - val_loss: 5.8270e-05\n",
      "Epoch 10/20\n",
      "867/867 [==============================] - 0s 184us/step - loss: 4.4902e-04 - val_loss: 5.7965e-05\n",
      "Epoch 11/20\n",
      "867/867 [==============================] - 0s 173us/step - loss: 4.0859e-04 - val_loss: 5.8582e-05\n",
      "Epoch 12/20\n",
      "867/867 [==============================] - 0s 185us/step - loss: 4.5399e-04 - val_loss: 1.6105e-04\n",
      "Epoch 13/20\n",
      "867/867 [==============================] - 0s 208us/step - loss: 3.5502e-04 - val_loss: 9.0471e-05\n",
      "Epoch 14/20\n",
      "867/867 [==============================] - 0s 188us/step - loss: 3.4444e-04 - val_loss: 7.6167e-05\n",
      "Epoch 15/20\n",
      "867/867 [==============================] - 0s 165us/step - loss: 3.5161e-04 - val_loss: 6.6571e-05\n",
      "Epoch 16/20\n",
      "867/867 [==============================] - 0s 184us/step - loss: 4.1127e-04 - val_loss: 1.1790e-04\n",
      "Epoch 17/20\n",
      "867/867 [==============================] - 0s 183us/step - loss: 2.8105e-04 - val_loss: 7.8442e-05\n",
      "Epoch 18/20\n",
      "867/867 [==============================] - 0s 180us/step - loss: 3.2729e-04 - val_loss: 6.4136e-05\n",
      "Epoch 19/20\n",
      "867/867 [==============================] - 0s 171us/step - loss: 3.5987e-04 - val_loss: 5.1019e-05\n",
      "Epoch 20/20\n",
      "867/867 [==============================] - 0s 183us/step - loss: 2.9785e-04 - val_loss: 3.3923e-05\n"
     ]
    }
   ],
   "source": [
    "model = build_lstm_model(X_train, output_size=1, neurons=lstm_neurons, activ_func=activ_func,\n",
    "                             dropout=dropout, loss=loss, optimizer=optimizer)\n",
    "out = model.fit(X_train, y_train, epochs=epochs, batch_size=batch_size, verbose=1, validation_split=0.1)"
   ]
  },
  {
   "cell_type": "code",
   "execution_count": 19,
   "id": "loving-criterion",
   "metadata": {},
   "outputs": [
    {
     "data": {
      "image/png": "[encoded data removed]",
      "text/plain": [
       "<Figure size 1080x720 with 1 Axes>"
      ]
     },
     "metadata": {},
     "output_type": "display_data"
    }
   ],
   "source": [
    "# Let's visualize how loss changes as number of epochs increases\n",
    "plt.figure(figsize=(15,10))\n",
    "plt.plot(out.history['loss'])\n",
    "plt.plot(out.history['val_loss'])\n",
    "plt.title('Model Loss')\n",
    "plt.ylabel('loss')\n",
    "plt.xlabel('epoch')\n",
    "plt.legend(['train', 'test'], loc='best', fontsize=16)\n",
    "plt.show()"
   ]
  },
  {
   "cell_type": "markdown",
   "id": "continuous-interstate",
   "metadata": {},
   "source": [
    "# Testing the Model\n",
    "\n",
    "- The model will be given the x values of the testing data and will make predictions of the normalized prices. This will be stored as pred."
   ]
  },
  {
   "cell_type": "code",
   "execution_count": 20,
   "id": "synthetic-remark",
   "metadata": {},
   "outputs": [],
   "source": [
    "pred = model.predict(X_test)\n",
    "pred_transformed = sc.inverse_transform(pred)\n",
    "y_test_transformed = sc.inverse_transform(y_test)"
   ]
  },
  {
   "cell_type": "code",
   "execution_count": 21,
   "id": "careful-rebate",
   "metadata": {},
   "outputs": [
    {
     "data": {
      "text/plain": [
       "0.001949669550027835"
      ]
     },
     "execution_count": 21,
     "metadata": {},
     "output_type": "execute_result"
    }
   ],
   "source": [
    "mean_squared_error(pred, y_test)"
   ]
  },
  {
   "cell_type": "markdown",
   "id": "sixth-projector",
   "metadata": {},
   "source": [
    " - The MSE value obtained looks good. Finally, let’s plot the actual and predicted prices.\n",
    " - The plot represents predicted and actual ethereum price over time.\n",
    " - The predicted values are represented by a red line, whereas the real values are represented by a blue line. The x axis represents time and the y axis represents ethereum price."
   ]
  },
  {
   "cell_type": "code",
   "execution_count": 22,
   "id": "editorial-annex",
   "metadata": {},
   "outputs": [
    {
     "data": {
      "image/png": "[encoded data removed]",
      "text/plain": [
       "<Figure size 1080x720 with 1 Axes>"
      ]
     },
     "metadata": {},
     "output_type": "display_data"
    }
   ],
   "source": [
    "plt.figure(figsize=(15,10))\n",
    "plt.plot(y_test_transformed, color='blue', label='Real')\n",
    "plt.plot(pred_transformed, color='red', label='Prediction')\n",
    "plt.title('Eth Price Prediction')\n",
    "plt.legend(loc='best', fontsize=16)\n",
    "plt.show()"
   ]
  },
  {
   "cell_type": "markdown",
   "id": "professional-homeless",
   "metadata": {},
   "source": [
    "I demonstrated how to predict cryptocurrency prices in real time using LSTM neural network. I went through process of getting real-time crptocurrency data, preparing data for training and testing, predicting the prices using LSTM neural network and visualizing the prediction results. Feel free to play with the hyper-parameters or try out different neural network architectures for better results. Using this model itself on cryptocurrency would allow people to make a lot of profits by letting them buying and selling cryptocurrencies at predicted times."
   ]
  }
 ],
 "metadata": {
  "kernelspec": {
   "display_name": "Python 3",
   "language": "python",
   "name": "python3"
  },
  "language_info": {
   "codemirror_mode": {
    "name": "ipython",
    "version": 3
   },
   "file_extension": ".py",
   "mimetype": "text/x-python",
   "name": "python",
   "nbconvert_exporter": "python",
   "pygments_lexer": "ipython3",
   "version": "3.6.9"
  }
 },
 "nbformat": 4,
 "nbformat_minor": 5
}
